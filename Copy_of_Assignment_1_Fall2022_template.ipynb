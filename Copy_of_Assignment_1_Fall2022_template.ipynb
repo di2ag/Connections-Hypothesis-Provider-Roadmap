{
  "nbformat": 4,
  "nbformat_minor": 0,
  "metadata": {
    "colab": {
      "provenance": [],
      "collapsed_sections": [],
      "include_colab_link": true
    },
    "kernelspec": {
      "name": "python3",
      "display_name": "Python 3"
    },
    "language_info": {
      "name": "python"
    }
  },
  "cells": [
    {
      "cell_type": "markdown",
      "metadata": {
        "id": "view-in-github",
        "colab_type": "text"
      },
      "source": [
        "<a href=\"https://colab.research.google.com/github/di2ag/Connections-Hypothesis-Provider-Roadmap/blob/main/Copy_of_Assignment_1_Fall2022_template.ipynb\" target=\"_parent\"><img src=\"https://colab.research.google.com/assets/colab-badge.svg\" alt=\"Open In Colab\"/></a>"
      ]
    },
    {
      "cell_type": "markdown",
      "source": [
        "# ENGS 108 Fall 2022 Assignment 1\n",
        "### Due September 15, 2022 at 11:59PM on Canvas\n",
        "### Instructors: George Cybenko\n",
        "### TAs: Chase Yakaboski and Clement Nyanhongo"
      ],
      "metadata": {
        "id": "2rqqw5VqZpeg"
      }
    },
    {
      "cell_type": "code",
      "source": [
        "from google.colab import drive\n",
        "drive.mount('/content/drive')"
      ],
      "metadata": {
        "id": "DS4kIfLFoauv"
      },
      "execution_count": null,
      "outputs": []
    },
    {
      "cell_type": "code",
      "source": [
        "#TODO: Put any import statements in this code block."
      ],
      "metadata": {
        "id": "48cxqoGCbK2y"
      },
      "execution_count": null,
      "outputs": []
    },
    {
      "cell_type": "markdown",
      "source": [
        "## Question 1\n",
        "Go to\n",
        "https://www.kaggle.com/datasets/coloradokb/dandelionimages and download the dandelion and other images."
      ],
      "metadata": {
        "id": "wCSzz_faZ7xx"
      }
    },
    {
      "cell_type": "code",
      "source": [
        "#TODO: Put your code to download the dandelion images in this code block."
      ],
      "metadata": {
        "id": "5lw3vkbhaZhG"
      },
      "execution_count": null,
      "outputs": []
    },
    {
      "cell_type": "markdown",
      "source": [
        "(a) Define a reasonable distance metric between images and explain it with an example."
      ],
      "metadata": {
        "id": "UjlrU7ycaJpo"
      }
    },
    {
      "cell_type": "markdown",
      "source": [
        "*TODO: Explain your distance metric with text, equations or both.*"
      ],
      "metadata": {
        "id": "wJENXKnaakFo"
      }
    },
    {
      "cell_type": "code",
      "source": [
        "#TODO: Test your distance metric on two example images from the dandelions dataset."
      ],
      "metadata": {
        "id": "N69jH5S2aWDi"
      },
      "execution_count": null,
      "outputs": []
    },
    {
      "cell_type": "markdown",
      "source": [
        "(b) Which two images are most similar according to your metric?"
      ],
      "metadata": {
        "id": "IwwOArDFaM-x"
      }
    },
    {
      "cell_type": "code",
      "source": [
        "#TODO: Write your code here."
      ],
      "metadata": {
        "id": "f5u7T32NaWo-"
      },
      "execution_count": null,
      "outputs": []
    },
    {
      "cell_type": "markdown",
      "source": [
        "(c) Which two images are most different according to your metric?"
      ],
      "metadata": {
        "id": "YuJj7utFaO9G"
      }
    },
    {
      "cell_type": "code",
      "source": [
        "#TODO: Write your code here."
      ],
      "metadata": {
        "id": "RhwgSJYUaXKO"
      },
      "execution_count": null,
      "outputs": []
    },
    {
      "cell_type": "markdown",
      "source": [
        "(d) What dandelion image is the most representative of the dandelion images?"
      ],
      "metadata": {
        "id": "I7jGY0V8aQ2J"
      }
    },
    {
      "cell_type": "code",
      "source": [
        "#TODO: Write your code here. Hint: Which image is closest to all the dandelion images?"
      ],
      "metadata": {
        "id": "0qhtNuQOaXtG"
      },
      "execution_count": null,
      "outputs": []
    },
    {
      "cell_type": "markdown",
      "source": [
        "(e) Which other image is most representative of the other images?"
      ],
      "metadata": {
        "id": "NSEotRceaTB7"
      }
    },
    {
      "cell_type": "code",
      "source": [
        "#TODO: Write your code here."
      ],
      "metadata": {
        "id": "gImFdWexaYPL"
      },
      "execution_count": null,
      "outputs": []
    },
    {
      "cell_type": "markdown",
      "source": [
        "(f) What dandelion image and other image are closest to each other?"
      ],
      "metadata": {
        "id": "YZYWUB9taUTu"
      }
    },
    {
      "cell_type": "code",
      "execution_count": null,
      "metadata": {
        "id": "E9CRDmmEZhoA"
      },
      "outputs": [],
      "source": [
        "#TODO: Write your code here."
      ]
    },
    {
      "cell_type": "markdown",
      "source": [
        "## Question 2\n",
        "Let \n",
        "$$ f(x_1, x_2, x_3, x_4, x_5) = \\frac{1}{1 + e^{-2x_1-3x_2-4x_3-5x_4-6x_5}} $$"
      ],
      "metadata": {
        "id": "7FEKvLM1bRWT"
      }
    },
    {
      "cell_type": "markdown",
      "source": [
        "(a) What is $$\\frac{∂f}{∂x_i}$$"
      ],
      "metadata": {
        "id": "tjWisKCOb4k5"
      }
    },
    {
      "cell_type": "markdown",
      "source": [
        "*TODO: Write your answers in Markdown/Latex in this code block.*\n"
      ],
      "metadata": {
        "id": "4iYbXjhVcF-u"
      }
    },
    {
      "cell_type": "markdown",
      "source": [
        "(b) What is $$\\nabla f(1,0,0,0,0)\\cdot ones(5,1) $$"
      ],
      "metadata": {
        "id": "e67psOoscNSr"
      }
    },
    {
      "cell_type": "markdown",
      "source": [
        "*TODO: Write your answers in Markdown/Latex in this code block.*"
      ],
      "metadata": {
        "id": "N4faRqQ5clFP"
      }
    },
    {
      "cell_type": "markdown",
      "source": [
        "(b) What is $$\\nabla f(0,1,0,0,0)\\cdot ones(5,1) $$"
      ],
      "metadata": {
        "id": "x0prg7xsclbk"
      }
    },
    {
      "cell_type": "markdown",
      "source": [
        "*TODO: Write your answers in Markdown/Latex in this code block.*"
      ],
      "metadata": {
        "id": "6wdsRgRUcuc8"
      }
    },
    {
      "cell_type": "markdown",
      "source": [
        "## Question 3\n",
        "Some Tesla batteries have an amp hour rating of 230 but in tests, it has been determined that the actual amp hours of a new battery is a random variable uniformly distributed between 230 and 250 amp hours. (Tesla is conservative in reporting this.)"
      ],
      "metadata": {
        "id": "cNGVg1RYcvX-"
      }
    },
    {
      "cell_type": "markdown",
      "source": [
        "(a) Tesla service center is shipped 5 randomly selected batteries. What is the probability that exactly 2 of the 5 batteries have less than 235 amp hours?"
      ],
      "metadata": {
        "id": "cw-xfKRIc2Ds"
      }
    },
    {
      "cell_type": "code",
      "source": [
        "#TODO: Write your answers in Markdown/Latex or code."
      ],
      "metadata": {
        "id": "vMv9njHIdCBb"
      },
      "execution_count": null,
      "outputs": []
    },
    {
      "cell_type": "markdown",
      "source": [
        "(b) Your Tesla battery is being replaced at that service center. The service center does not measure the amp hours of batteries it receives or installs. What is the probability that the smallest amp hours of the 5 batteries is below 235?"
      ],
      "metadata": {
        "id": "m-dkyefGc9xk"
      }
    },
    {
      "cell_type": "code",
      "source": [
        "#TODO: Write your answers in Markdown/Latex or code."
      ],
      "metadata": {
        "id": "diUuLYSHdLyr"
      },
      "execution_count": null,
      "outputs": []
    },
    {
      "cell_type": "markdown",
      "source": [
        "(c) What is the probability that your Tesla gets the battery with the lowest amp hours?"
      ],
      "metadata": {
        "id": "1HEkys6tdNfr"
      }
    },
    {
      "cell_type": "code",
      "source": [
        "#TODO: Write your answers in Markdown/Latex or code."
      ],
      "metadata": {
        "id": "LDphUqQKdR7z"
      },
      "execution_count": null,
      "outputs": []
    }
  ]
}